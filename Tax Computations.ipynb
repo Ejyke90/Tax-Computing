{
 "cells": [
  {
   "cell_type": "markdown",
   "metadata": {},
   "source": [
    "# Tax Brackets"
   ]
  },
  {
   "cell_type": "markdown",
   "metadata": {},
   "source": [
    "Based on the location of a buyer for a merchandise, my program seeks to calculate the Goods and Services Tax (GST), Harmonized Sales Tax (HST), and the Provincial Sales Tax for a buyer who lives in Canada, but no taxes for an overseas buyer."
   ]
  },
  {
   "cell_type": "code",
   "execution_count": 7,
   "metadata": {},
   "outputs": [],
   "source": [
    "#Declare and initialize your variables\n",
    "country = \"\"\n",
    "province = \"\"\n",
    "orderTotal = 0\n",
    "totalWithTax = 0"
   ]
  },
  {
   "cell_type": "markdown",
   "metadata": {},
   "source": [
    "I am declaring variables to hold the tax values used in the calculations. That way if a tax rate changes, I only have to change it in one place instead of searching through my code to see where I had a specific numeric value and updating it"
   ]
  },
  {
   "cell_type": "code",
   "execution_count": 8,
   "metadata": {},
   "outputs": [],
   "source": [
    "GST = .05  \n",
    "HST = .13\n",
    "PST = .06"
   ]
  },
  {
   "cell_type": "code",
   "execution_count": 9,
   "metadata": {},
   "outputs": [
    {
     "name": "stdout",
     "output_type": "stream",
     "text": [
      "What country are you from? Canada\n"
     ]
    }
   ],
   "source": [
    "#Ask the user what country they are from \n",
    "\n",
    "country = input(\"What country are you from? \" )"
   ]
  },
  {
   "cell_type": "markdown",
   "metadata": {},
   "source": [
    "If they are from Canada ask which province...don't forget they may enter Canada as CANADA, Canada, canada, CAnada. So it's ideal to convert the string to lowercase before you do the comparison"
   ]
  },
  {
   "cell_type": "code",
   "execution_count": 10,
   "metadata": {},
   "outputs": [
    {
     "name": "stdout",
     "output_type": "stream",
     "text": [
      "Which province are you from? Alberta\n"
     ]
    }
   ],
   "source": [
    "if country.lower() == \"canada\" :\n",
    "    province = input(\"Which province are you from? \")"
   ]
  },
  {
   "cell_type": "code",
   "execution_count": 11,
   "metadata": {},
   "outputs": [
    {
     "name": "stdout",
     "output_type": "stream",
     "text": [
      "What is your order total? 625.97\n"
     ]
    }
   ],
   "source": [
    "#ask for the order total\n",
    "\n",
    "orderTotal = float(input(\"What is your order total? \"))"
   ]
  },
  {
   "cell_type": "code",
   "execution_count": 12,
   "metadata": {},
   "outputs": [],
   "source": [
    "#Now add the taxes\n",
    "#But first check if they are from canada\n",
    "\n",
    "if country.lower() == \"canada\" :\n",
    "    #if they are from canada, we have to change the calculation based on the province they specified\n",
    "    \n",
    "    if province.lower() == \"alberta\" :\n",
    "        orderTotal = orderTotal + orderTotal * GST\n",
    "    elif province.lower() == \"ontario\" or province.lower() == \"new brunswick\" or province.lower() == \"nova scotia\" :\n",
    "        orderTotal = orderTotal + orderTotal * HST\n",
    "    else :\n",
    "        orderTotal = orderTotal + orderTotal * PST + orderTotal * GST"
   ]
  },
  {
   "cell_type": "markdown",
   "metadata": {},
   "source": [
    "If they are not from Canada there is no tax, so the amount they entered is the total with tax and no modification to orderTotal is required here."
   ]
  },
  {
   "cell_type": "code",
   "execution_count": 13,
   "metadata": {},
   "outputs": [
    {
     "name": "stdout",
     "output_type": "stream",
     "text": [
      "Your total including taxes comes to $657.27 \n"
     ]
    }
   ],
   "source": [
    "#Now display the total with taxes to the user, don't forget to format the number\n",
    "\n",
    "print(\"Your total including taxes comes to $%.2f \" % orderTotal)"
   ]
  },
  {
   "cell_type": "code",
   "execution_count": 14,
   "metadata": {},
   "outputs": [
    {
     "name": "stdout",
     "output_type": "stream",
     "text": [
      "What country are you from? United States\n"
     ]
    }
   ],
   "source": [
    "country = input(\"What country are you from? \" )"
   ]
  },
  {
   "cell_type": "code",
   "execution_count": 15,
   "metadata": {},
   "outputs": [],
   "source": [
    "if country.lower() == \"canada\" :\n",
    "    province = input(\"Which province are you from? \")"
   ]
  },
  {
   "cell_type": "code",
   "execution_count": 16,
   "metadata": {},
   "outputs": [
    {
     "name": "stdout",
     "output_type": "stream",
     "text": [
      "What is your order total? 610.18\n"
     ]
    }
   ],
   "source": [
    "orderTotal = float(input(\"What is your order total? \"))"
   ]
  },
  {
   "cell_type": "code",
   "execution_count": 17,
   "metadata": {},
   "outputs": [],
   "source": [
    "if country.lower() == \"canada\" :\n",
    "    \n",
    "    \n",
    "    if province.lower() == \"alberta\" :\n",
    "        orderTotal = orderTotal + orderTotal * GST\n",
    "    elif province.lower() == \"ontario\" or province.lower() == \"new brunswick\" or province.lower() == \"nova scotia\" :\n",
    "        orderTotal = orderTotal + orderTotal * HST\n",
    "    else :\n",
    "        orderTotal = orderTotal + orderTotal * PST + orderTotal * GST"
   ]
  },
  {
   "cell_type": "code",
   "execution_count": 18,
   "metadata": {},
   "outputs": [
    {
     "name": "stdout",
     "output_type": "stream",
     "text": [
      "Your total including taxes comes to $610.18 \n"
     ]
    }
   ],
   "source": [
    "print(\"Your total including taxes comes to $%.2f \" % orderTotal)"
   ]
  },
  {
   "cell_type": "markdown",
   "metadata": {},
   "source": [
    "# QED\n",
    "euworld7@gmail.com"
   ]
  }
 ],
 "metadata": {
  "kernelspec": {
   "display_name": "Python 3",
   "language": "python",
   "name": "python3"
  },
  "language_info": {
   "codemirror_mode": {
    "name": "ipython",
    "version": 3
   },
   "file_extension": ".py",
   "mimetype": "text/x-python",
   "name": "python",
   "nbconvert_exporter": "python",
   "pygments_lexer": "ipython3",
   "version": "3.6.4"
  }
 },
 "nbformat": 4,
 "nbformat_minor": 2
}
